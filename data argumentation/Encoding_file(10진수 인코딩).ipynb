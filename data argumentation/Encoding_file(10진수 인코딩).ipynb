{
 "cells": [
  {
   "cell_type": "markdown",
   "metadata": {},
   "source": [
    "## 10진수 인코딩"
   ]
  },
  {
   "cell_type": "code",
   "execution_count": 4,
   "metadata": {
    "scrolled": true
   },
   "outputs": [
    {
     "name": "stdout",
     "output_type": "stream",
     "text": [
      "### Original_Dataset ###\n"
     ]
    },
    {
     "data": {
      "text/html": [
       "<div>\n",
       "<style scoped>\n",
       "    .dataframe tbody tr th:only-of-type {\n",
       "        vertical-align: middle;\n",
       "    }\n",
       "\n",
       "    .dataframe tbody tr th {\n",
       "        vertical-align: top;\n",
       "    }\n",
       "\n",
       "    .dataframe thead th {\n",
       "        text-align: right;\n",
       "    }\n",
       "</style>\n",
       "<table border=\"1\" class=\"dataframe\">\n",
       "  <thead>\n",
       "    <tr style=\"text-align: right;\">\n",
       "      <th></th>\n",
       "      <th>CAN_ID</th>\n",
       "      <th>Len</th>\n",
       "      <th>Data_1</th>\n",
       "      <th>Data_2</th>\n",
       "      <th>Data_3</th>\n",
       "      <th>Data_4</th>\n",
       "      <th>Data_5</th>\n",
       "      <th>Data_6</th>\n",
       "      <th>Data_7</th>\n",
       "      <th>Data_8</th>\n",
       "      <th>Label</th>\n",
       "    </tr>\n",
       "    <tr>\n",
       "      <th>Time_Stamp</th>\n",
       "      <th></th>\n",
       "      <th></th>\n",
       "      <th></th>\n",
       "      <th></th>\n",
       "      <th></th>\n",
       "      <th></th>\n",
       "      <th></th>\n",
       "      <th></th>\n",
       "      <th></th>\n",
       "      <th></th>\n",
       "      <th></th>\n",
       "    </tr>\n",
       "  </thead>\n",
       "  <tbody>\n",
       "    <tr>\n",
       "      <th>1.513920e+09</th>\n",
       "      <td>0189</td>\n",
       "      <td>7</td>\n",
       "      <td>8F</td>\n",
       "      <td>FF</td>\n",
       "      <td>0F</td>\n",
       "      <td>FF</td>\n",
       "      <td>2F</td>\n",
       "      <td>FF</td>\n",
       "      <td>2D</td>\n",
       "      <td>NaN</td>\n",
       "      <td>R</td>\n",
       "    </tr>\n",
       "    <tr>\n",
       "      <th>1.513920e+09</th>\n",
       "      <td>034C</td>\n",
       "      <td>8</td>\n",
       "      <td>EA</td>\n",
       "      <td>9E</td>\n",
       "      <td>0F</td>\n",
       "      <td>FE</td>\n",
       "      <td>03</td>\n",
       "      <td>FC</td>\n",
       "      <td>00</td>\n",
       "      <td>0C</td>\n",
       "      <td>R</td>\n",
       "    </tr>\n",
       "    <tr>\n",
       "      <th>1.513920e+09</th>\n",
       "      <td>0197</td>\n",
       "      <td>4</td>\n",
       "      <td>00</td>\n",
       "      <td>00</td>\n",
       "      <td>00</td>\n",
       "      <td>00</td>\n",
       "      <td>NaN</td>\n",
       "      <td>NaN</td>\n",
       "      <td>NaN</td>\n",
       "      <td>NaN</td>\n",
       "      <td>R</td>\n",
       "    </tr>\n",
       "    <tr>\n",
       "      <th>1.513920e+09</th>\n",
       "      <td>00AA</td>\n",
       "      <td>8</td>\n",
       "      <td>2B</td>\n",
       "      <td>DD</td>\n",
       "      <td>2C</td>\n",
       "      <td>56</td>\n",
       "      <td>40</td>\n",
       "      <td>53</td>\n",
       "      <td>AA</td>\n",
       "      <td>00</td>\n",
       "      <td>R</td>\n",
       "    </tr>\n",
       "    <tr>\n",
       "      <th>1.513920e+09</th>\n",
       "      <td>019D</td>\n",
       "      <td>8</td>\n",
       "      <td>83</td>\n",
       "      <td>2C</td>\n",
       "      <td>3C</td>\n",
       "      <td>D2</td>\n",
       "      <td>00</td>\n",
       "      <td>0C</td>\n",
       "      <td>98</td>\n",
       "      <td>7F</td>\n",
       "      <td>R</td>\n",
       "    </tr>\n",
       "    <tr>\n",
       "      <th>...</th>\n",
       "      <td>...</td>\n",
       "      <td>...</td>\n",
       "      <td>...</td>\n",
       "      <td>...</td>\n",
       "      <td>...</td>\n",
       "      <td>...</td>\n",
       "      <td>...</td>\n",
       "      <td>...</td>\n",
       "      <td>...</td>\n",
       "      <td>...</td>\n",
       "      <td>...</td>\n",
       "    </tr>\n",
       "    <tr>\n",
       "      <th>1.513920e+09</th>\n",
       "      <td>01C7</td>\n",
       "      <td>7</td>\n",
       "      <td>00</td>\n",
       "      <td>00</td>\n",
       "      <td>BF</td>\n",
       "      <td>FE</td>\n",
       "      <td>00</td>\n",
       "      <td>00</td>\n",
       "      <td>3F</td>\n",
       "      <td>NaN</td>\n",
       "      <td>R</td>\n",
       "    </tr>\n",
       "    <tr>\n",
       "      <th>1.513920e+09</th>\n",
       "      <td>01E9</td>\n",
       "      <td>8</td>\n",
       "      <td>00</td>\n",
       "      <td>10</td>\n",
       "      <td>00</td>\n",
       "      <td>0E</td>\n",
       "      <td>0F</td>\n",
       "      <td>FD</td>\n",
       "      <td>00</td>\n",
       "      <td>00</td>\n",
       "      <td>R</td>\n",
       "    </tr>\n",
       "    <tr>\n",
       "      <th>1.513920e+09</th>\n",
       "      <td>01F5</td>\n",
       "      <td>8</td>\n",
       "      <td>0F</td>\n",
       "      <td>0F</td>\n",
       "      <td>00</td>\n",
       "      <td>01</td>\n",
       "      <td>00</td>\n",
       "      <td>00</td>\n",
       "      <td>00</td>\n",
       "      <td>00</td>\n",
       "      <td>R</td>\n",
       "    </tr>\n",
       "    <tr>\n",
       "      <th>1.513920e+09</th>\n",
       "      <td>0232</td>\n",
       "      <td>8</td>\n",
       "      <td>00</td>\n",
       "      <td>00</td>\n",
       "      <td>00</td>\n",
       "      <td>08</td>\n",
       "      <td>00</td>\n",
       "      <td>00</td>\n",
       "      <td>00</td>\n",
       "      <td>00</td>\n",
       "      <td>R</td>\n",
       "    </tr>\n",
       "    <tr>\n",
       "      <th>1.513920e+09</th>\n",
       "      <td>00F1</td>\n",
       "      <td>6</td>\n",
       "      <td>34</td>\n",
       "      <td>00</td>\n",
       "      <td>00</td>\n",
       "      <td>40</td>\n",
       "      <td>00</td>\n",
       "      <td>00</td>\n",
       "      <td>NaN</td>\n",
       "      <td>NaN</td>\n",
       "      <td>R</td>\n",
       "    </tr>\n",
       "  </tbody>\n",
       "</table>\n",
       "<p>65665 rows × 11 columns</p>\n",
       "</div>"
      ],
      "text/plain": [
       "             CAN_ID  Len Data_1 Data_2 Data_3 Data_4 Data_5 Data_6 Data_7  \\\n",
       "Time_Stamp                                                                  \n",
       "1.513920e+09   0189    7     8F     FF     0F     FF     2F     FF     2D   \n",
       "1.513920e+09   034C    8     EA     9E     0F     FE     03     FC     00   \n",
       "1.513920e+09   0197    4     00     00     00     00    NaN    NaN    NaN   \n",
       "1.513920e+09   00AA    8     2B     DD     2C     56     40     53     AA   \n",
       "1.513920e+09   019D    8     83     2C     3C     D2     00     0C     98   \n",
       "...             ...  ...    ...    ...    ...    ...    ...    ...    ...   \n",
       "1.513920e+09   01C7    7     00     00     BF     FE     00     00     3F   \n",
       "1.513920e+09   01E9    8     00     10     00     0E     0F     FD     00   \n",
       "1.513920e+09   01F5    8     0F     0F     00     01     00     00     00   \n",
       "1.513920e+09   0232    8     00     00     00     08     00     00     00   \n",
       "1.513920e+09   00F1    6     34     00     00     40     00     00    NaN   \n",
       "\n",
       "             Data_8 Label  \n",
       "Time_Stamp                 \n",
       "1.513920e+09    NaN     R  \n",
       "1.513920e+09     0C     R  \n",
       "1.513920e+09    NaN     R  \n",
       "1.513920e+09     00     R  \n",
       "1.513920e+09     7F     R  \n",
       "...             ...   ...  \n",
       "1.513920e+09    NaN     R  \n",
       "1.513920e+09     00     R  \n",
       "1.513920e+09     00     R  \n",
       "1.513920e+09     00     R  \n",
       "1.513920e+09    NaN     R  \n",
       "\n",
       "[65665 rows x 11 columns]"
      ]
     },
     "metadata": {},
     "output_type": "display_data"
    },
    {
     "name": "stdout",
     "output_type": "stream",
     "text": [
      "\n",
      "###Labeled_Data_Encoding_Start###\n",
      "\n"
     ]
    },
    {
     "data": {
      "application/vnd.jupyter.widget-view+json": {
       "model_id": "356c9cd933474b0b916bc154d597ceff",
       "version_major": 2,
       "version_minor": 0
      },
      "text/plain": [
       "HBox(children=(FloatProgress(value=0.0, description='1st', max=10.0, style=ProgressStyle(description_width='in…"
      ]
     },
     "metadata": {},
     "output_type": "display_data"
    },
    {
     "name": "stdout",
     "output_type": "stream",
     "text": [
      "col_name :  CAN_ID\n"
     ]
    },
    {
     "data": {
      "application/vnd.jupyter.widget-view+json": {
       "model_id": "8e8a45a5d06a474eb3cd622ae9abb5bc",
       "version_major": 2,
       "version_minor": 0
      },
      "text/plain": [
       "HBox(children=(FloatProgress(value=1.0, bar_style='info', description='2nd', layout=Layout(width='20px'), max=…"
      ]
     },
     "metadata": {},
     "output_type": "display_data"
    },
    {
     "name": "stdout",
     "output_type": "stream",
     "text": [
      "\n",
      "col_name :  Len\n"
     ]
    },
    {
     "data": {
      "application/vnd.jupyter.widget-view+json": {
       "model_id": "ea3c46c4e9254f0c90bcb27a94345cc2",
       "version_major": 2,
       "version_minor": 0
      },
      "text/plain": [
       "HBox(children=(FloatProgress(value=1.0, bar_style='info', description='2nd', layout=Layout(width='20px'), max=…"
      ]
     },
     "metadata": {},
     "output_type": "display_data"
    },
    {
     "name": "stdout",
     "output_type": "stream",
     "text": [
      "\n",
      "col_name :  Data_1\n"
     ]
    },
    {
     "data": {
      "application/vnd.jupyter.widget-view+json": {
       "model_id": "5a8d5a41d48f4aa4854b857d65f74a77",
       "version_major": 2,
       "version_minor": 0
      },
      "text/plain": [
       "HBox(children=(FloatProgress(value=1.0, bar_style='info', description='2nd', layout=Layout(width='20px'), max=…"
      ]
     },
     "metadata": {},
     "output_type": "display_data"
    },
    {
     "name": "stdout",
     "output_type": "stream",
     "text": [
      "\n",
      "col_name :  Data_2\n"
     ]
    },
    {
     "data": {
      "application/vnd.jupyter.widget-view+json": {
       "model_id": "22d41b02e2d44868a1646993d09d3f83",
       "version_major": 2,
       "version_minor": 0
      },
      "text/plain": [
       "HBox(children=(FloatProgress(value=1.0, bar_style='info', description='2nd', layout=Layout(width='20px'), max=…"
      ]
     },
     "metadata": {},
     "output_type": "display_data"
    },
    {
     "name": "stdout",
     "output_type": "stream",
     "text": [
      "\n",
      "col_name :  Data_3\n"
     ]
    },
    {
     "data": {
      "application/vnd.jupyter.widget-view+json": {
       "model_id": "6392bce4600e4dc690e1a8f18365d706",
       "version_major": 2,
       "version_minor": 0
      },
      "text/plain": [
       "HBox(children=(FloatProgress(value=1.0, bar_style='info', description='2nd', layout=Layout(width='20px'), max=…"
      ]
     },
     "metadata": {},
     "output_type": "display_data"
    },
    {
     "name": "stdout",
     "output_type": "stream",
     "text": [
      "\n",
      "col_name :  Data_4\n"
     ]
    },
    {
     "data": {
      "application/vnd.jupyter.widget-view+json": {
       "model_id": "563a01cae5234c50886077cf13bb72f7",
       "version_major": 2,
       "version_minor": 0
      },
      "text/plain": [
       "HBox(children=(FloatProgress(value=1.0, bar_style='info', description='2nd', layout=Layout(width='20px'), max=…"
      ]
     },
     "metadata": {},
     "output_type": "display_data"
    },
    {
     "name": "stdout",
     "output_type": "stream",
     "text": [
      "\n",
      "col_name :  Data_5\n"
     ]
    },
    {
     "data": {
      "application/vnd.jupyter.widget-view+json": {
       "model_id": "dcae3245277342ad89c428caf8f34677",
       "version_major": 2,
       "version_minor": 0
      },
      "text/plain": [
       "HBox(children=(FloatProgress(value=1.0, bar_style='info', description='2nd', layout=Layout(width='20px'), max=…"
      ]
     },
     "metadata": {},
     "output_type": "display_data"
    },
    {
     "name": "stdout",
     "output_type": "stream",
     "text": [
      "\n",
      "col_name :  Data_6\n"
     ]
    },
    {
     "data": {
      "application/vnd.jupyter.widget-view+json": {
       "model_id": "7260a656848f47e9ba5960acc046503f",
       "version_major": 2,
       "version_minor": 0
      },
      "text/plain": [
       "HBox(children=(FloatProgress(value=1.0, bar_style='info', description='2nd', layout=Layout(width='20px'), max=…"
      ]
     },
     "metadata": {},
     "output_type": "display_data"
    },
    {
     "name": "stdout",
     "output_type": "stream",
     "text": [
      "\n",
      "col_name :  Data_7\n"
     ]
    },
    {
     "data": {
      "application/vnd.jupyter.widget-view+json": {
       "model_id": "4d29716ee3804b5a98fa6caf8df6dbee",
       "version_major": 2,
       "version_minor": 0
      },
      "text/plain": [
       "HBox(children=(FloatProgress(value=1.0, bar_style='info', description='2nd', layout=Layout(width='20px'), max=…"
      ]
     },
     "metadata": {},
     "output_type": "display_data"
    },
    {
     "name": "stdout",
     "output_type": "stream",
     "text": [
      "\n",
      "col_name :  Data_8\n"
     ]
    },
    {
     "data": {
      "application/vnd.jupyter.widget-view+json": {
       "model_id": "0eea5e2dd7894e21be55aaad452df259",
       "version_major": 2,
       "version_minor": 0
      },
      "text/plain": [
       "HBox(children=(FloatProgress(value=1.0, bar_style='info', description='2nd', layout=Layout(width='20px'), max=…"
      ]
     },
     "metadata": {},
     "output_type": "display_data"
    },
    {
     "name": "stdout",
     "output_type": "stream",
     "text": [
      "\n",
      "\n",
      "null_sum:\n",
      " CAN_ID    0\n",
      "Len       0\n",
      "Data_1    0\n",
      "Data_2    0\n",
      "Data_3    0\n",
      "Data_4    0\n",
      "Data_5    0\n",
      "Data_6    0\n",
      "Data_7    0\n",
      "Data_8    0\n",
      "Label     0\n",
      "dtype: int64\n",
      "Data_file_not_saved!\n",
      "\n",
      "### Processed_Dataset ###\n"
     ]
    },
    {
     "data": {
      "text/html": [
       "<div>\n",
       "<style scoped>\n",
       "    .dataframe tbody tr th:only-of-type {\n",
       "        vertical-align: middle;\n",
       "    }\n",
       "\n",
       "    .dataframe tbody tr th {\n",
       "        vertical-align: top;\n",
       "    }\n",
       "\n",
       "    .dataframe thead th {\n",
       "        text-align: right;\n",
       "    }\n",
       "</style>\n",
       "<table border=\"1\" class=\"dataframe\">\n",
       "  <thead>\n",
       "    <tr style=\"text-align: right;\">\n",
       "      <th></th>\n",
       "      <th>CAN_ID</th>\n",
       "      <th>Len</th>\n",
       "      <th>Data_1</th>\n",
       "      <th>Data_2</th>\n",
       "      <th>Data_3</th>\n",
       "      <th>Data_4</th>\n",
       "      <th>Data_5</th>\n",
       "      <th>Data_6</th>\n",
       "      <th>Data_7</th>\n",
       "      <th>Data_8</th>\n",
       "      <th>Label</th>\n",
       "    </tr>\n",
       "    <tr>\n",
       "      <th>Time_Stamp</th>\n",
       "      <th></th>\n",
       "      <th></th>\n",
       "      <th></th>\n",
       "      <th></th>\n",
       "      <th></th>\n",
       "      <th></th>\n",
       "      <th></th>\n",
       "      <th></th>\n",
       "      <th></th>\n",
       "      <th></th>\n",
       "      <th></th>\n",
       "    </tr>\n",
       "  </thead>\n",
       "  <tbody>\n",
       "    <tr>\n",
       "      <th>1.513920e+09</th>\n",
       "      <td>393</td>\n",
       "      <td>7</td>\n",
       "      <td>143</td>\n",
       "      <td>255.0</td>\n",
       "      <td>15.0</td>\n",
       "      <td>255.0</td>\n",
       "      <td>47.0</td>\n",
       "      <td>255.0</td>\n",
       "      <td>45.0</td>\n",
       "      <td>0.0</td>\n",
       "      <td>0</td>\n",
       "    </tr>\n",
       "    <tr>\n",
       "      <th>1.513920e+09</th>\n",
       "      <td>844</td>\n",
       "      <td>8</td>\n",
       "      <td>234</td>\n",
       "      <td>158.0</td>\n",
       "      <td>15.0</td>\n",
       "      <td>254.0</td>\n",
       "      <td>3.0</td>\n",
       "      <td>252.0</td>\n",
       "      <td>0.0</td>\n",
       "      <td>12.0</td>\n",
       "      <td>0</td>\n",
       "    </tr>\n",
       "    <tr>\n",
       "      <th>1.513920e+09</th>\n",
       "      <td>407</td>\n",
       "      <td>4</td>\n",
       "      <td>0</td>\n",
       "      <td>0.0</td>\n",
       "      <td>0.0</td>\n",
       "      <td>0.0</td>\n",
       "      <td>0.0</td>\n",
       "      <td>0.0</td>\n",
       "      <td>0.0</td>\n",
       "      <td>0.0</td>\n",
       "      <td>0</td>\n",
       "    </tr>\n",
       "    <tr>\n",
       "      <th>1.513920e+09</th>\n",
       "      <td>170</td>\n",
       "      <td>8</td>\n",
       "      <td>43</td>\n",
       "      <td>221.0</td>\n",
       "      <td>44.0</td>\n",
       "      <td>86.0</td>\n",
       "      <td>64.0</td>\n",
       "      <td>83.0</td>\n",
       "      <td>170.0</td>\n",
       "      <td>0.0</td>\n",
       "      <td>0</td>\n",
       "    </tr>\n",
       "    <tr>\n",
       "      <th>1.513920e+09</th>\n",
       "      <td>413</td>\n",
       "      <td>8</td>\n",
       "      <td>131</td>\n",
       "      <td>44.0</td>\n",
       "      <td>60.0</td>\n",
       "      <td>210.0</td>\n",
       "      <td>0.0</td>\n",
       "      <td>12.0</td>\n",
       "      <td>152.0</td>\n",
       "      <td>127.0</td>\n",
       "      <td>0</td>\n",
       "    </tr>\n",
       "    <tr>\n",
       "      <th>...</th>\n",
       "      <td>...</td>\n",
       "      <td>...</td>\n",
       "      <td>...</td>\n",
       "      <td>...</td>\n",
       "      <td>...</td>\n",
       "      <td>...</td>\n",
       "      <td>...</td>\n",
       "      <td>...</td>\n",
       "      <td>...</td>\n",
       "      <td>...</td>\n",
       "      <td>...</td>\n",
       "    </tr>\n",
       "    <tr>\n",
       "      <th>1.513920e+09</th>\n",
       "      <td>455</td>\n",
       "      <td>7</td>\n",
       "      <td>0</td>\n",
       "      <td>0.0</td>\n",
       "      <td>191.0</td>\n",
       "      <td>254.0</td>\n",
       "      <td>0.0</td>\n",
       "      <td>0.0</td>\n",
       "      <td>63.0</td>\n",
       "      <td>0.0</td>\n",
       "      <td>0</td>\n",
       "    </tr>\n",
       "    <tr>\n",
       "      <th>1.513920e+09</th>\n",
       "      <td>489</td>\n",
       "      <td>8</td>\n",
       "      <td>0</td>\n",
       "      <td>16.0</td>\n",
       "      <td>0.0</td>\n",
       "      <td>14.0</td>\n",
       "      <td>15.0</td>\n",
       "      <td>253.0</td>\n",
       "      <td>0.0</td>\n",
       "      <td>0.0</td>\n",
       "      <td>0</td>\n",
       "    </tr>\n",
       "    <tr>\n",
       "      <th>1.513920e+09</th>\n",
       "      <td>501</td>\n",
       "      <td>8</td>\n",
       "      <td>15</td>\n",
       "      <td>15.0</td>\n",
       "      <td>0.0</td>\n",
       "      <td>1.0</td>\n",
       "      <td>0.0</td>\n",
       "      <td>0.0</td>\n",
       "      <td>0.0</td>\n",
       "      <td>0.0</td>\n",
       "      <td>0</td>\n",
       "    </tr>\n",
       "    <tr>\n",
       "      <th>1.513920e+09</th>\n",
       "      <td>562</td>\n",
       "      <td>8</td>\n",
       "      <td>0</td>\n",
       "      <td>0.0</td>\n",
       "      <td>0.0</td>\n",
       "      <td>8.0</td>\n",
       "      <td>0.0</td>\n",
       "      <td>0.0</td>\n",
       "      <td>0.0</td>\n",
       "      <td>0.0</td>\n",
       "      <td>0</td>\n",
       "    </tr>\n",
       "    <tr>\n",
       "      <th>1.513920e+09</th>\n",
       "      <td>241</td>\n",
       "      <td>6</td>\n",
       "      <td>52</td>\n",
       "      <td>0.0</td>\n",
       "      <td>0.0</td>\n",
       "      <td>64.0</td>\n",
       "      <td>0.0</td>\n",
       "      <td>0.0</td>\n",
       "      <td>0.0</td>\n",
       "      <td>0.0</td>\n",
       "      <td>0</td>\n",
       "    </tr>\n",
       "  </tbody>\n",
       "</table>\n",
       "<p>65665 rows × 11 columns</p>\n",
       "</div>"
      ],
      "text/plain": [
       "              CAN_ID  Len  Data_1  Data_2  Data_3  Data_4  Data_5  Data_6  \\\n",
       "Time_Stamp                                                                  \n",
       "1.513920e+09     393    7     143   255.0    15.0   255.0    47.0   255.0   \n",
       "1.513920e+09     844    8     234   158.0    15.0   254.0     3.0   252.0   \n",
       "1.513920e+09     407    4       0     0.0     0.0     0.0     0.0     0.0   \n",
       "1.513920e+09     170    8      43   221.0    44.0    86.0    64.0    83.0   \n",
       "1.513920e+09     413    8     131    44.0    60.0   210.0     0.0    12.0   \n",
       "...              ...  ...     ...     ...     ...     ...     ...     ...   \n",
       "1.513920e+09     455    7       0     0.0   191.0   254.0     0.0     0.0   \n",
       "1.513920e+09     489    8       0    16.0     0.0    14.0    15.0   253.0   \n",
       "1.513920e+09     501    8      15    15.0     0.0     1.0     0.0     0.0   \n",
       "1.513920e+09     562    8       0     0.0     0.0     8.0     0.0     0.0   \n",
       "1.513920e+09     241    6      52     0.0     0.0    64.0     0.0     0.0   \n",
       "\n",
       "              Data_7  Data_8  Label  \n",
       "Time_Stamp                           \n",
       "1.513920e+09    45.0     0.0      0  \n",
       "1.513920e+09     0.0    12.0      0  \n",
       "1.513920e+09     0.0     0.0      0  \n",
       "1.513920e+09   170.0     0.0      0  \n",
       "1.513920e+09   152.0   127.0      0  \n",
       "...              ...     ...    ...  \n",
       "1.513920e+09    63.0     0.0      0  \n",
       "1.513920e+09     0.0     0.0      0  \n",
       "1.513920e+09     0.0     0.0      0  \n",
       "1.513920e+09     0.0     0.0      0  \n",
       "1.513920e+09     0.0     0.0      0  \n",
       "\n",
       "[65665 rows x 11 columns]"
      ]
     },
     "metadata": {},
     "output_type": "display_data"
    }
   ],
   "source": [
    "import numpy as np\n",
    "import pandas as pd\n",
    "import os\n",
    "import sklearn.metrics as metrics\n",
    "from tqdm.notebook import tqdm\n",
    "\n",
    "Label_type = \"Labeled\"\n",
    "File_save = \"n\"\n",
    "\n",
    "data = pd.read_csv(\"D:\\Total_Data\\Labeled\\Label_processed_Survival_Fuzzy_Spark.csv\",index_col = 0)\n",
    "\n",
    "print(\"### Original_Dataset ###\")\n",
    "display(data)\n",
    "\n",
    "if Label_type == \"Labeled\":\n",
    "    for_col = data.columns[:-1]\n",
    "    print(\"\\n###Labeled_Data_Encoding_Start###\\n\")\n",
    "    \n",
    "else:\n",
    "    for_col = data.columns\n",
    "    print(\"\\n###Unlabeled_Data_Encoding_Start###\\n\")\n",
    "    \n",
    "for j in tqdm(for_col,desc = \"1st\"):\n",
    "        \n",
    "    conv=[]\n",
    "    print(\"col_name : \",j)\n",
    "    \n",
    "    for k,i in tqdm(enumerate(data[j]),desc = \"2nd\"):\n",
    "        \n",
    "        try:\n",
    "            #print(type(i))\n",
    "            if type(i) == float or i == \"\\\\\":\n",
    "                #print(\"error\")\n",
    "                int_conv = np.NaN\n",
    "\n",
    "            else:\n",
    "                #print(i)\n",
    "                int_conv = int(str(i),16)\n",
    "\n",
    "            conv.append(int_conv)\n",
    "            \n",
    "        except ValueError:\n",
    "            int_conv = int(str(int(float(i))),16)\n",
    "\n",
    "            conv.append(int_conv)\n",
    "\n",
    "            \n",
    "    data[j] = conv\n",
    "\n",
    "if Label_type == \"Labeled\":\n",
    "    \n",
    "    data[\"Label\"] = data[\"Label\"].replace(\"R\",0)\n",
    "    data[\"Label\"] = data[\"Label\"].replace(\"T\",1)\n",
    "\n",
    "else:\n",
    "    \n",
    "    print(\"No_Labeled\")\n",
    "\n",
    "data = data.fillna(0)\n",
    "print(\"null_sum:\\n\",data.isnull().sum())\n",
    "\n",
    "if File_save == \"y\":\n",
    "    \n",
    "    data.to_csv(Label_type + \"_Total_Data_HEX_to_DEC_decoding.csv\")\n",
    "    print(\"Data_file_saved!\")\n",
    "    \n",
    "else :\n",
    "    print(\"Data_file_not_saved!\")\n",
    "\n",
    "print(\"\\n### Processed_Dataset ###\")\n",
    "display(data)"
   ]
  }
 ],
 "metadata": {
  "kernelspec": {
   "display_name": "Python 3",
   "language": "python",
   "name": "python3"
  },
  "language_info": {
   "codemirror_mode": {
    "name": "ipython",
    "version": 3
   },
   "file_extension": ".py",
   "mimetype": "text/x-python",
   "name": "python",
   "nbconvert_exporter": "python",
   "pygments_lexer": "ipython3",
   "version": "3.6.10"
  }
 },
 "nbformat": 4,
 "nbformat_minor": 4
}
